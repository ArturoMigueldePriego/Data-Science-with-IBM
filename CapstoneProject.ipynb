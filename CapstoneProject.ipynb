{
 "cells": [
  {
   "cell_type": "markdown",
   "metadata": {},
   "source": [
    "# Capstone Project: \n",
    "# Identifying similar districts in different Peruvian provinces"
   ]
  },
  {
   "cell_type": "markdown",
   "metadata": {},
   "source": [
    "## Introduction"
   ]
  },
  {
   "cell_type": "markdown",
   "metadata": {},
   "source": [
    "Peru is a very varied country in culture and commerce. The objective of this project is to determine similarities between Peruvian districts of both the same province and between districts of different provinces. For this, the FourSquare venues data will be used as an indicator of commercial similarity to obtain clusters of different degrees of grouping, and compare the results with classifications made by national organizations such as INEI.\n",
    "\n",
    "We will use the codes provided in the laboratories of the course to create functions for the purpose of modularizing the programming tasks.\n",
    "\n",
    "The results of this project could be used to develop and implement government programs adapted to regions with similar needs."
   ]
  },
  {
   "cell_type": "markdown",
   "metadata": {},
   "source": [
    "## Data"
   ]
  },
  {
   "cell_type": "markdown",
   "metadata": {},
   "source": [
    "We need the names of the districts of four selected provinces: Arequipa, Chincha, Cusco and Puno. This data can be extracted from Wikipedia. The districts of the districts will be combined with their respective provinces and country name (Peru in this case) to obtain the geolocation coordinates. These coordinates will be used to make venue requests in FourSquare.\n",
    "\n",
    "Sources: \n",
    "* Wikipedia, https://www.wikipedia.org/\n",
    "* Instituo Nacional de Estadística e Informática, https://www.inei.gob.pe/\n"
   ]
  },
  {
   "cell_type": "code",
   "execution_count": null,
   "metadata": {},
   "outputs": [],
   "source": []
  }
 ],
 "metadata": {
  "kernelspec": {
   "display_name": "Python 3",
   "language": "python",
   "name": "python3"
  },
  "language_info": {
   "codemirror_mode": {
    "name": "ipython",
    "version": 3
   },
   "file_extension": ".py",
   "mimetype": "text/x-python",
   "name": "python",
   "nbconvert_exporter": "python",
   "pygments_lexer": "ipython3",
   "version": "3.7.4"
  }
 },
 "nbformat": 4,
 "nbformat_minor": 2
}
